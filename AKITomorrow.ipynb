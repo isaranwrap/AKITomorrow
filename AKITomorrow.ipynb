{
  "nbformat": 4,
  "nbformat_minor": 0,
  "metadata": {
    "colab": {
      "name": "AKI Tomorrow 2.0.ipynb",
      "provenance": [],
      "collapsed_sections": [],
      "include_colab_link": true
    },
    "kernelspec": {
      "name": "python3",
      "display_name": "Python 3"
    }
  },
  "cells": [
    {
      "cell_type": "markdown",
      "metadata": {
        "id": "view-in-github",
        "colab_type": "text"
      },
      "source": [
        "<a href=\"https://colab.research.google.com/github/isaranwrap/AKITomorrow/blob/master/AKITomorrow2.0.ipynb\" target=\"_parent\"><img src=\"https://colab.research.google.com/assets/colab-badge.svg\" alt=\"Open In Colab\"/></a>"
      ]
    },
    {
      "cell_type": "markdown",
      "metadata": {
        "id": "Gup3XZXr-FsG",
        "colab_type": "text"
      },
      "source": [
        "# Imports\n",
        "\n",
        "Trifecta + datetime for time manipulation"
      ]
    },
    {
      "cell_type": "code",
      "metadata": {
        "id": "BU8tzjeC9_7u",
        "colab_type": "code",
        "colab": {}
      },
      "source": [
        "#trifecta\n",
        "import numpy as np\n",
        "import matplotlib.pyplot as plt\n",
        "import pandas as pd\n",
        "\n",
        "#to check location & lab vals @ time of alert\n",
        "from datetime import datetime, timedelta"
      ],
      "execution_count": 0,
      "outputs": []
    },
    {
      "cell_type": "markdown",
      "metadata": {
        "id": "x0dAn9GRiXyo",
        "colab_type": "text"
      },
      "source": [
        "# User-defined functions\n",
        "\n",
        "---\n",
        "> ### returnAlertCounter - returns the counter of the row at which the latest time before the alert occurs\n",
        ">> Input: alerttime (datetimeformat), dt_list (list of datetimes), & optional timedelta (timedelta, default = 0 hours)\n",
        "\n",
        ">> Output: index (integer) in dt_list (list of datetimes) at which latest vals before alerttime are \n",
        "\n",
        "> ### returnNoLongerERCounter - returns counter at which patient is no longer in the ER\n",
        "\n",
        ">> Input: encounter (integer, pat_enc_csn_id) of interest\n",
        "\n",
        ">> Output: index (integer) in final_locations dataframe when patient is no longer in ER\n",
        "\n",
        "> ### getAge - returns the age of the patient given birth_date & admission_date. Some interesting consequences associated with timedelta returning in days and the Logistic regression model ceiling in years make a user-defined function necessary. \n",
        "\n",
        ">> Input: birth_date & admission_date in datetime format\n",
        "\n",
        ">> Output: age of patient (integer) already ceiling'd (for LogReg model)"
      ]
    },
    {
      "cell_type": "code",
      "metadata": {
        "id": "rx8cfNnTiXIX",
        "colab_type": "code",
        "colab": {}
      },
      "source": [
        "def returnAlertCounter(alerttime, dt_list, window = timedelta(hours=0)):\n",
        "  counter = 0\n",
        "  try:\n",
        "    while alerttime + window >= dt_list[counter]:\n",
        "      counter += 1\n",
        "    return counter - 1\n",
        "  except IndexError:\n",
        "    return counter - 1\n",
        "\n",
        "def returnNoLongerERCounter(enc):\n",
        "  counter = 0\n",
        "  try:\n",
        "    while final_locs[final_locs.PAT_ENC_CSN_ID == enc].iloc[counter].Emergency_Room:\n",
        "      counter += 1\n",
        "    return counter\n",
        "  except IndexError:\n",
        "    return counter-1\n",
        "\n",
        "def getAge(birth_date, admission_date):\n",
        "    years = admission_date.year - birth_date.year\n",
        "    months = admission_date.month - birth_date.month\n",
        "    days = admission_date.day - birth_date.day\n",
        "    if days == 0 and months == 0:\n",
        "        return years\n",
        "    else:\n",
        "        if days < 0:\n",
        "            months -= 1\n",
        "        if months < 0:\n",
        "            years -= 1\n",
        "        return years + 1"
      ],
      "execution_count": 0,
      "outputs": []
    },
    {
      "cell_type": "markdown",
      "metadata": {
        "id": "LtIQEk7j_6Ue",
        "colab_type": "text"
      },
      "source": [
        "# Loading in datasets\n",
        "\n",
        "---\n",
        "> ### cleanlabs | 316764 x 12 | lab values of patients (s.a. hemoglobin, creatinine & BUN)\n",
        "\n",
        "> ### patients | 2850 x 5 | patient MRN #, encounter ID, alert_time & admission/discharge times\n",
        "\n",
        "> ### demo | 7362 x 13 | demographic information of patients\n",
        "\n",
        "> ### final_locs | 39744 x 12 | locations of the patients @ time of transfer"
      ]
    },
    {
      "cell_type": "code",
      "metadata": {
        "id": "oBo5zgYN_335",
        "colab_type": "code",
        "colab": {}
      },
      "source": [
        "baseFolder = ''\n",
        "clean_labs = pd.read_csv(baseFolder + 'cleanlab.csv') #316764 x 12,   #6090 unique patients  #6982 unique patient encounters\n",
        "patients = pd.read_csv(baseFolder + 'alerted patients.csv') #2850 x 5 the 2850 patients who were alerted #2850 x 5 --> pat_mrn, pat_enc, alert_time, adm, dis\n",
        "demo = pd.read_csv(baseFolder + 'demo.csv') # 7362 x 13 demographics info (7362 unique encounters)\n",
        "final_locs = pd.read_csv(baseFolder + 'finallocation.csv') # the locations of the patients throughout their hospital trip 39744 x 12"
      ],
      "execution_count": 0,
      "outputs": []
    },
    {
      "cell_type": "markdown",
      "metadata": {
        "id": "8tfEHvmvih7e",
        "colab_type": "text"
      },
      "source": [
        "# Preprocessing Slicing/Reshaping datasets \n",
        "--- \n",
        "> ### patients | turn PAT_MRN_ID & PAT_ENC_CSN_ID to lowercase, convert admission to datetime format & extract just date part of that (admit_date col) \n",
        ">> create list of alerted_encounters based on patients df \n",
        "\n",
        "> cleanlabs | perform forward imputation on labs, subset rows by those in alerted_encounters\n",
        "\n",
        "> final_locs | subset final_locs by those in alerted_encounters\n",
        "\n",
        "> demo | subset demo by those in alerted_encounters & cols we care about (race, birth_date & sex) & sort pat_mrn_id to match patients df "
      ]
    },
    {
      "cell_type": "code",
      "metadata": {
        "id": "Zmpz_54Lh_1E",
        "colab_type": "code",
        "colab": {}
      },
      "source": [
        "#capitalize the patients dataframe for later dropping duplicates during concatenation - need same col names\n",
        "patients['PAT_MRN_ID'] = patients['pat_mrn_id']\n",
        "patients['PAT_ENC_CSN_ID'] = patients['pat_enc_csn_id']\n",
        "patients.drop(['pat_mrn_id','pat_enc_csn_id'],axis=1, inplace=True)\n",
        "patients['admission'] = pd.to_datetime(patients['admission'])\n",
        "patients['admit_date'] = [i.date() for i in patients['admission']]\n",
        "patients['admit_date'] = pd.to_datetime(patients['admit_date'])\n",
        "patients['alert_time'] = pd.to_datetime(patients['alert_time'])\n",
        "alerted_encounters = list(patients.PAT_ENC_CSN_ID) #we care at the level of encounter\n",
        "\n",
        "#perform forward imputation on clean labs, for some reason groupby drops col so loaded in dataset it just tmp\n",
        "cleanlabs = clean_labs.groupby('PAT_MRN_ID').ffill()\n",
        "cleanlabs['PAT_MRN_ID'] = clean_labs['PAT_MRN_ID']\n",
        "\n",
        "cleanlabs_dtformat = loc_dtformat =  '%d%b%y:%H:%M:%S'\n",
        "alerttime_dtformat = '%Y-%m-%dT%H:%M:%S'\n",
        "\n",
        "cleanlabs['RESULT_TIME'] = pd.to_datetime(cleanlabs.RESULT_TIME, format=cleanlabs_dtformat)\n",
        "#subsetting for cleanlabs by patient takes a bit of work, so that's down below\n",
        "#...but, we can subset by rows\n",
        "cleanlabs_rows = cleanlabs.PAT_ENC_CSN_ID.isin(alerted_encounters)\n",
        "#cleanlabs = cleanlabs.loc[cleanlabs_rows,:]\n",
        "\n",
        "#whereas subsetting final_locations is easier\n",
        "finallocs_rows = final_locs.PAT_ENC_CSN_ID.isin(alerted_encounters)\n",
        "final_locs = final_locs.loc[finallocs_rows]\n",
        "final_locs['INSTANT_PT_MOVED_TO_DEPTRMBED'] = pd.to_datetime(final_locs['INSTANT_PT_MOVED_TO_DEPTRMBED'], format = loc_dtformat)\n",
        "\n",
        "#subsetting demographics we care about & sorting according to how patients df is sorted\n",
        "#demo[demo.PAT_ENC_CSN_ID.isin(alerted_encounters)]\n",
        "demo_cols = ['PAT_MRN_ID',\n",
        "             'PAT_ENC_CSN_ID',\n",
        "             'BIRTH_DATE',\n",
        "             'RACE',\n",
        "             'SEX']\n",
        "demo_rows = demo.PAT_ENC_CSN_ID.isin(alerted_encounters)\n",
        "demo = demo[demo_cols][demo_rows] #shape is 2850 x 5 --> birth_date, race & sex\n",
        "demo['BIRTH_DATE'] = pd.to_datetime(demo['BIRTH_DATE'])\n",
        "demo.sort_values('PAT_MRN_ID', inplace=True)\n",
        "demo.reset_index(drop=True, inplace=True)"
      ],
      "execution_count": 0,
      "outputs": []
    },
    {
      "cell_type": "markdown",
      "metadata": {
        "id": "CMypQyJ1j8Km",
        "colab_type": "text"
      },
      "source": [
        "# Subsetting clean labs \n",
        "---\n",
        "> clean labs we care about: HCO3-, Hg, BUN, Cl-, Creat, K+, Na+\n",
        "> & find row which has the latest value BEFORE the alert time\n",
        ">> Forward imputation has already been implemented in df, it's just a matter of extracting the most current lab vals before alert_time, which is taken from a different dataframe, so to conv to datetime & compare is a little convoluted but done below. I keep track of patient_indx as well as alert_indx, reset the indices, & subset cols by the clean_labs we care about + patient info"
      ]
    },
    {
      "cell_type": "code",
      "metadata": {
        "id": "cMVJ2BjTiLNJ",
        "colab_type": "code",
        "colab": {}
      },
      "source": [
        "cleanlab_cols = ['PAT_MRN_ID',\n",
        "                 'PAT_ENC_CSN_ID',\n",
        "                 'bicarbonate',\n",
        "                 'hemoglobin',\n",
        "                 'bun',\n",
        "                 'chloride',\n",
        "                 'creatinine',\n",
        "                 'potassium',\n",
        "                 'sodium',\n",
        "                 'RESULT_TIME'] \n",
        "\n",
        "\n",
        "#time @ which lab development occurred, in datetime format. I now need to find the dt which corresponds to alert_time\n",
        "#turn alert_time to dt format as well for comparison purposes\n",
        "\n",
        "enc_labs = list()\n",
        "for indx, enc in enumerate(alerted_encounters):\n",
        "  #cleanlabs.iloc[80:100], datetime.strptime(patients.loc[patients.pat_enc_csn_id == enc].alert_time[indx], '%Y-%m-%dT%H:%M:%S')\n",
        "  #alerttime_dt = datetime.strptime(patients.loc[patients.PAT_ENC_CSN_ID == enc].alert_time[indx], alerttime_dtformat) old, before datetime conv\n",
        "  alerttime = patients.loc[patients.PAT_ENC_CSN_ID == enc].alert_time[indx]\n",
        "  #cleanlabs_RESULTTIME = [datetime.strptime(date, cleanlabs_dtformat) for date in cleanlabs[cleanlabs.PAT_ENC_CSN_ID == enc].RESULT_TIME] old, before datetime conv\n",
        "  cleanlabs_RESULTTIME = list(cleanlabs[cleanlabs.PAT_ENC_CSN_ID == enc].RESULT_TIME)\n",
        "  alert_indx = returnAlertCounter(alerttime = alerttime, dt_list = cleanlabs_RESULTTIME)#, window = timedelta(hours=2)) #comment this line out to take away 2 hr window\n",
        "  pat_indx = cleanlabs.index[cleanlabs.PAT_ENC_CSN_ID == enc][0]\n",
        "  enc_labs.append(cleanlabs.iloc[[pat_indx + alert_indx]])\n",
        "\n",
        "cleanlabs_df = pd.concat(enc_labs) #2850 x 12\n",
        "cleanlabs_indices = cleanlabs_df.index\n",
        "cleanlabs_df.reset_index(drop=True, inplace=True)\n",
        "cleanlabs_df = cleanlabs_df.loc[:,cleanlab_cols] #2850 x 9"
      ],
      "execution_count": 0,
      "outputs": []
    },
    {
      "cell_type": "markdown",
      "metadata": {
        "id": "PB_5gAOgkGZ6",
        "colab_type": "text"
      },
      "source": [
        "# Merge demographics + clean labs into a big temporary data frame - also a good checkpoint\n",
        "\n",
        "--- \n",
        "> ### Drop the mismatches from patients & clean labs, then combine into a temporary big dataframe with more columns than need be. Aso convert alert_time & birth_date into datetime (which is stupid & redundant, should have done this differently in retrospect, all @ once in the beginning), &  create age, sex, and race vars by how the Logistic Regression model takes it in.\n",
        ">>  For some reason there are some (~10 oom) mismatches which I just drop - don't care to look into them... I'm a busy college student okay?\n",
        "\n"
      ]
    },
    {
      "cell_type": "code",
      "metadata": {
        "id": "-0u_5AxrkG1u",
        "colab_type": "code",
        "colab": {}
      },
      "source": [
        "mismatch = np.where(np.array(patients.PAT_MRN_ID) != np.array(cleanlabs_df.PAT_MRN_ID))[0]\n",
        "patients.drop(mismatch, inplace= True)\n",
        "cleanlabs_df.drop(mismatch, inplace=True)\n",
        "demo.drop(mismatch, inplace=True)\n",
        "#tmp_big_df = pd.concat([patients, cleanlabs_df], axis=1)\n",
        "#tmp_big_df = tmp_big_df.loc[:,~tmp_big_df.columns.duplicated()]\n",
        "tmp_big_df = patients.merge(cleanlabs_df)\n",
        "tmp_big_df = tmp_big_df.merge(demo)\n",
        "\n",
        "\n",
        "#Checks\n",
        "#np.all(np.array(demo.PAT_MRN_ID) == np.array(patients.PAT_MRN_ID))\n",
        "#np.all(np.array(patients.PAT_MRN_ID) == np.array(cleanlabs_df.PAT_MRN_ID))\n",
        "\n",
        "#No longer necessary if you do it in the beginning\n",
        "#tmp_big_df['alert_time'] = pd.to_datetime(tmp_big_df['alert_time'])\n",
        "#tmp_big_df['BIRTH_DATE'] = pd.to_datetime(tmp_big_df['BIRTH_DATE'])\n",
        "\n",
        "#tmp_big_df['age'] = np.ceil((tmp_big_df['alert_time'] - tmp_big_df['BIRTH_DATE']).apply(lambda x: x/timedelta(days=365)))# -1st\n",
        "#tmp_big_df['age'] = np.ceil((tmp_big_df['admit_date'] - tmp_big_df['BIRTH_DATE']).apply(lambda x: x/timedelta(days=365))) # -2nd w admit date\n",
        "#mp_big_df['age'] = [relativedelta(i, j) for i, j in zip(tmp_big_df['admit_date'],tmp_big_df['BIRTH_DATE'])]#']), tmp_big_df['BIRTH_DATE']) \n",
        "#Adi's code \n",
        "tmp_big_df['age'] = [getAge(tmp_big_df['BIRTH_DATE'][i],tmp_big_df['admission'][i]) for i in range(tmp_big_df.shape[0])]\n",
        "tmp_big_df['sex'] = tmp_big_df['SEX'] == 'Male'\n",
        "tmp_big_df['race'] = tmp_big_df['RACE'] == 'Black or African American'\n",
        "tmp_big_df.head() #shape is 2840 x 19 "
      ],
      "execution_count": 0,
      "outputs": []
    },
    {
      "cell_type": "markdown",
      "metadata": {
        "id": "VY9Rf-PkAf5Y",
        "colab_type": "text"
      },
      "source": [
        "# Create final_locations .csv -- where patients end up (after ER), divided into surgical, medical, icu, etc. "
      ]
    },
    {
      "cell_type": "code",
      "metadata": {
        "id": "x9MYxDCvnHYc",
        "colab_type": "code",
        "colab": {}
      },
      "source": [
        "#DON'T RUN THIS IF WHAT YOU'RE TRYNA DO IS get risk score - icu & surgical vars ARE DIFF!\n",
        "#Uncomment code below if & only if you are interested in finding the final locations, i.e. where these patients END up \n",
        "#Convert to True/False\n",
        "#for col in final_locs.columns[4:]:\n",
        "  #final_locs[col] = final_locs[col] == 1.0\n",
        "\n",
        "#for enc in alerted_encounters:\n",
        "  #row = final_locs[final_locs.PAT_ENC_CSN_ID == enc].iloc[returnNoLongerERCounter(enc)]\n",
        "  #tmp_big_df.loc[tmp_big_df.PAT_ENC_CSN_ID == enc, 'medical'] = row.Medical_ICU or row.Medical_Ward or row.Medical_Surgical_Ward or row.Emergency_Room\n",
        "  #tmp_big_df.loc[tmp_big_df.PAT_ENC_CSN_ID == enc, 'surgical'] = row.Surgery_Ward or row.Surgical_ICU or row.Medical_Surgical_ICU or row.Medical_Surgical_Ward\n",
        "  #tmp_big_df.loc[tmp_big_df.PAT_ENC_CSN_ID == enc, 'icu'] = row.Medical_ICU or row.Surgical_ICU or row.Medical_Surgical_ICU\n",
        "  #tmp_big_df.loc[tmp_big_df.PAT_ENC_CSN_ID == enc, 'admit_medical'] = row.Emergency_Room"
      ],
      "execution_count": 0,
      "outputs": []
    },
    {
      "cell_type": "markdown",
      "metadata": {
        "id": "--cBZLy1AtS7",
        "colab_type": "text"
      },
      "source": [
        "# Create surgical & icu variables to be put into Logistic Regression model\n",
        "---\n",
        "> ### icu is True if the patient is in Medical_ICU, Surgical_ICU, or Medical_Surgical_ICU @ time of alert\n",
        "> ### surgical is True if the patient is in Surgery_ward, Surgical_ward (IDK THE DIFFERENCE! x) Surgical_ICU, Medical_Surgical_ICU (so there should be some overlap) or Medical_Surgical_Ward @ time of alert"
      ]
    },
    {
      "cell_type": "code",
      "metadata": {
        "id": "va2-vzpWnYht",
        "colab_type": "code",
        "colab": {}
      },
      "source": [
        "#Convert to True/False\n",
        "for col in final_locs.columns[4:]:\n",
        "  final_locs[col] = final_locs[col] == 1.0\n",
        "\n",
        "for indx, enc in enumerate(alerted_encounters):\n",
        "  if indx not in mismatch: #interesting consequence of dropping 10 patients is error gets thrown on key 706(first mismatch)\n",
        "    alerttime = patients.loc[patients.PAT_ENC_CSN_ID == enc].alert_time[indx]\n",
        "    #loc_dtlist = [datetime.strptime(date, loc_dtformat) for date in final_locs[final_locs.PAT_ENC_CSN_ID == enc].INSTANT_PT_MOVED_TO_DEPTRMBED]\n",
        "    loc_dtlist = list(final_locs[final_locs.PAT_ENC_CSN_ID == enc].INSTANT_PT_MOVED_TO_DEPTRMBED)\n",
        "    row = final_locs[final_locs.PAT_ENC_CSN_ID == enc].iloc[returnAlertCounter(alerttime, dt_list = loc_dtlist)]\n",
        "    tmp_big_df.loc[tmp_big_df.PAT_ENC_CSN_ID == enc, 'icu'] = row.Medical_ICU or row.Surgical_ICU or row.Medical_Surgical_ICU \n",
        "    tmp_big_df.loc[tmp_big_df.PAT_ENC_CSN_ID == enc, 'surgical'] = row.Surgery_Ward or row.Surgical_Ward or row.Surgical_ICU or row.Medical_Surgical_ICU or row.Medical_Surgical_Ward"
      ],
      "execution_count": 0,
      "outputs": []
    },
    {
      "cell_type": "markdown",
      "metadata": {
        "id": "2QkJR_3Dy5X2",
        "colab_type": "text"
      },
      "source": [
        "# Calculating risk score\n",
        "---\n",
        "> ### Beta coefficients given by previously trained LogReg model, supplied by Yu"
      ]
    },
    {
      "cell_type": "code",
      "metadata": {
        "id": "x-lv7XetriJx",
        "colab_type": "code",
        "outputId": "c66dce6b-7abb-4e73-fd05-fd256b27f2c3",
        "colab": {
          "base_uri": "https://localhost:8080/",
          "height": 98
        }
      },
      "source": [
        "beta_coeffs = [\n",
        "               0.0090205, #age\n",
        "               0.0028409, #bun\n",
        "               0.3149055, #creat\n",
        "               0.2605861, #potassium\n",
        "              -0.0768276, #bicarbonate\n",
        "              -0.0606976, #chloride \n",
        "              -0.0115591, #hemoglobin\n",
        "               0.0442439, #sodium\n",
        "               0.0274777, #sex\n",
        "               0.1555640, #race\n",
        "               0.9760579, #ICU\n",
        "               0.2331921, #surgical\n",
        "]\n",
        "vars = ['age',\n",
        "        'bun',\n",
        "        'creatinine',\n",
        "        'potassium',\n",
        "        'bicarbonate',\n",
        "        'chloride',\n",
        "        'hemoglobin',\n",
        "        'sodium',\n",
        "        'sex',\n",
        "        'race',\n",
        "        'icu',\n",
        "        'surgical'\n",
        "]\n",
        "pat_enc = tmp_big_df[['PAT_MRN_ID', 'PAT_ENC_CSN_ID']]\n",
        "vars_df = tmp_big_df[vars]\n",
        "\n",
        "#Final check before:Final check before:\n",
        "risk_score = np.zeros(vars_df.shape[0])\n",
        "for indx,col in enumerate(vars_df.columns):\n",
        "  risk_score += beta_coeffs[indx]*vars_df[col]\n",
        "vars_df['risk_score'] = risk_score - 3.333648 #one last beta coeff\n",
        "df = pd.concat([pat_enc, vars_df], axis=1)\n",
        "df.to_csv('RiskScores.csv', index=False)\n",
        "\n",
        "#To check if two dataframes are the same, \n",
        "#np.where(pdf != df)[0].shape[0] == pdf.isnull().sum().sum()\n",
        "# is the check I use. Because NaN shows up as not being the same thing in equality comparisons\n",
        "#OR\n",
        "#(pdf.iloc[np.where(pdf != df)[0]].round(decimals=5) != df.iloc[np.where(pdf != df)[0]].round(decimals=5)).sum().sum() == (pdf.iloc[np.where(pdf != df)[0]]).isnull().sum().sum()"
      ],
      "execution_count": 0,
      "outputs": [
        {
          "output_type": "stream",
          "text": [
            "/usr/local/lib/python3.6/dist-packages/ipykernel_launcher.py:35: SettingWithCopyWarning: \n",
            "A value is trying to be set on a copy of a slice from a DataFrame.\n",
            "Try using .loc[row_indexer,col_indexer] = value instead\n",
            "\n",
            "See the caveats in the documentation: http://pandas.pydata.org/pandas-docs/stable/user_guide/indexing.html#returning-a-view-versus-a-copy\n"
          ],
          "name": "stderr"
        }
      ]
    },
    {
      "cell_type": "code",
      "metadata": {
        "id": "7MXCD9p5bA58",
        "colab_type": "code",
        "colab": {}
      },
      "source": [
        "subset = df[df.risk_score < -1.73] #these are the patients below the threshold who nonetheless alerted.... why? \n",
        "below_threshold = list(subset.PAT_ENC_CSN_ID) \n",
        "\n",
        "below_thresh = list()\n",
        "for indx, enc in enumerate(below_threshold):\n",
        "  alerttime = patients[patients.PAT_ENC_CSN_ID == enc].alert_time[patients.index[patients.PAT_ENC_CSN_ID == enc][0]]\n",
        "  cleanlabs_RESULTTIME = list(cleanlabs[cleanlabs.PAT_ENC_CSN_ID == enc].RESULT_TIME)\n",
        "  alert_indx = returnAlertCounter(alerttime = alerttime, dt_list = cleanlabs_RESULTTIME)#, window = timedelta(hours=2)) #comment this line out to take away 2 hr window\n",
        "  front_window = returnAlertCounter(alerttime = alerttime, dt_list = cleanlabs_RESULTTIME, window=timedelta(hours=-2))+1 #add plus one, first time AFTER -2 hr window\n",
        "  back_window = returnAlertCounter(alerttime = alerttime, dt_list = cleanlabs_RESULTTIME, window=timedelta(hours=2))+1 # last time BEFORE +2 hr window \n",
        "  pat_indx = cleanlabs.index[cleanlabs.PAT_ENC_CSN_ID == enc][0]\n",
        "  if front_window != back_window:\n",
        "    below_thresh.append(cleanlabs[cleanlabs.PAT_ENC_CSN_ID == enc].iloc[front_window:back_window])\n",
        "\n",
        "bt = pd.concat(below_thresh)\n",
        "bt.reset_index(drop=True, inplace=True)\n",
        "bt = bt.loc[:,cleanlab_cols] "
      ],
      "execution_count": 0,
      "outputs": []
    },
    {
      "cell_type": "code",
      "metadata": {
        "id": "x0HsDZZ4YhiE",
        "colab_type": "code",
        "colab": {}
      },
      "source": [
        "tmp2 = patients.merge(bt)\n",
        "tmp2 = tmp2.merge(demo)\n",
        "\n",
        "tmp2['age'] = [getAge(tmp2['BIRTH_DATE'][i],tmp2['admission'][i]) for i in range(tmp2.shape[0])]\n",
        "tmp2['sex'] = tmp2['SEX'] == 'Male'\n",
        "tmp2['race'] = tmp2['RACE'] == 'Black or African American'\n",
        "tmp2['icu'] = np.zeros(tmp2.shape[0],dtype=bool)\n",
        "tmp2['surgical'] = np.zeros(tmp2.shape[0],dtype=bool)\n",
        "icu_indx = tmp2.columns.get_loc('icu')\n",
        "surg_indx = tmp2.columns.get_loc('surgical')\n",
        "for enc in below_threshold: \n",
        "  loc_dtlist = list(final_locs[final_locs.PAT_ENC_CSN_ID == enc].INSTANT_PT_MOVED_TO_DEPTRMBED)\n",
        "  for indx in tmp2[tmp2.PAT_ENC_CSN_ID == enc].index:\n",
        "    alerttime = tmp2[tmp2.PAT_ENC_CSN_ID == enc].RESULT_TIME[indx]\n",
        "    row = final_locs[final_locs.PAT_ENC_CSN_ID == enc].iloc[returnAlertCounter(alerttime, dt_list = loc_dtlist)]\n",
        "    tmp2.iloc[indx,icu_indx] = row.Medical_ICU or row.Surgical_ICU or row.Medical_Surgical_ICU\n",
        "    tmp2.iloc[indx,surg_indx] = row.Surgery_Ward or row.Surgical_Ward or row.Surgical_ICU or row.Medical_Surgical_ICU or row.Medical_Surgical_Ward"
      ],
      "execution_count": 0,
      "outputs": []
    },
    {
      "cell_type": "code",
      "metadata": {
        "id": "ZY-86Poy2I61",
        "colab_type": "code",
        "colab": {}
      },
      "source": [
        "#for indx, enc in enumerate(below_threshold): \n",
        " # alerttime = patients.loc[patients.PAT_ENC_CSN_ID == enc].alert_time[patients.index[patients.PAT_ENC_CSN_ID == enc][0]]\n",
        "  ##loc_dtlist = [datetime.strptime(date, loc_dtformat) for date in final_locs[final_locs.PAT_ENC_CSN_ID == enc].INSTANT_PT_MOVED_TO_DEPTRMBED]\n",
        " # loc_dtlist = list(final_locs[final_locs.PAT_ENC_CSN_ID == enc].INSTANT_PT_MOVED_TO_DEPTRMBED)\n",
        " # front_window = returnAlertCounter(alerttime = alerttime, dt_list = loc_dtlist, window=timedelta(hours=-2))+1 #add plus one, first time AFTER -2 hr window\n",
        " # back_window = returnAlertCounter(alerttime = alerttime, dt_list = loc_dtlist, window=timedelta(hours=2))+1 # last time BEFORE +2 hr window \n",
        " # row = final_locs[final_locs.PAT_ENC_CSN_ID == enc].iloc[returnAlertCounter(alerttime, dt_list = loc_dtlist)]\n",
        " # tmp2.loc[tmp2.PAT_ENC_CSN_ID == enc, 'icu'] = row.Medical_ICU or row.Surgical_ICU or row.Medical_Surgical_ICU \n",
        " # tmp2.loc[tmp2.PAT_ENC_CSN_ID == enc, 'surgical'] = row.Surgery_Ward or row.Surgical_Ward or row.Surgical_ICU or row.Medical_Surgical_ICU or row.Medical_Surgical_Ward\n",
        "#tmp2.head()"
      ],
      "execution_count": 0,
      "outputs": []
    },
    {
      "cell_type": "code",
      "metadata": {
        "id": "6Gp2cVf_ZQ4H",
        "colab_type": "code",
        "outputId": "0eceeb59-4931-4435-cdab-c679949bec43",
        "colab": {
          "base_uri": "https://localhost:8080/",
          "height": 139
        }
      },
      "source": [
        "pat_enc = tmp2[['PAT_MRN_ID', 'PAT_ENC_CSN_ID']]\n",
        "vars_df = tmp2[vars]\n",
        "\n",
        "#Final check before:Final check before:\n",
        "risk_score = np.zeros(vars_df.shape[0])\n",
        "for indx,col in enumerate(vars_df.columns):\n",
        "  risk_score += beta_coeffs[indx]*vars_df[col]\n",
        "vars_df['risk_score'] = risk_score - 3.333648 #one last beta coeff\n",
        "df2 = pd.concat([pat_enc, vars_df], axis=1)\n",
        "alerted = df2[df2.risk_score > -1.73]\n",
        "alerted.to_csv('RiskScores[alerted+-2hrs].csv')"
      ],
      "execution_count": 0,
      "outputs": [
        {
          "output_type": "stream",
          "text": [
            "/usr/local/lib/python3.6/dist-packages/ipykernel_launcher.py:8: SettingWithCopyWarning: \n",
            "A value is trying to be set on a copy of a slice from a DataFrame.\n",
            "Try using .loc[row_indexer,col_indexer] = value instead\n",
            "\n",
            "See the caveats in the documentation: http://pandas.pydata.org/pandas-docs/stable/user_guide/indexing.html#returning-a-view-versus-a-copy\n",
            "  \n"
          ],
          "name": "stderr"
        }
      ]
    }
  ]
}
